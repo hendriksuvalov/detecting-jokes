{
 "cells": [
  {
   "cell_type": "code",
   "execution_count": 3,
   "metadata": {},
   "outputs": [
    {
     "name": "stderr",
     "output_type": "stream",
     "text": [
      "[nltk_data] Downloading package stopwords to\n",
      "[nltk_data]     C:\\Users\\Birgit\\AppData\\Roaming\\nltk_data...\n",
      "[nltk_data]   Package stopwords is already up-to-date!\n"
     ]
    },
    {
     "data": {
      "text/plain": [
       "True"
      ]
     },
     "execution_count": 3,
     "metadata": {},
     "output_type": "execute_result"
    }
   ],
   "source": [
    "import pandas as pd\n",
    "import nltk\n",
    "from nltk.tokenize import word_tokenize\n",
    "from nltk.stem import WordNetLemmatizer\n",
    "from nltk.corpus import stopwords\n",
    "nltk.download('stopwords')"
   ]
  },
  {
   "cell_type": "code",
   "execution_count": 5,
   "metadata": {
    "pycharm": {
     "name": "#%%\n"
    }
   },
   "outputs": [],
   "source": [
    "articles = pd.read_json(\"data/articles.json.xz\")\n",
    "google_qa = pd.read_json(\"data/google_qa.json.xz\")\n",
    "jokes = pd.read_json(\"data/jokes.json.xz\")"
   ]
  },
  {
   "cell_type": "code",
   "execution_count": 7,
   "metadata": {},
   "outputs": [],
   "source": [
    "ajalehed = [\"Washington Post\", \"The New York Times\", \"Reuters\"]"
   ]
  },
  {
   "cell_type": "markdown",
   "metadata": {},
   "source": [
    "### How many times are newspaper names mentioned in articles?"
   ]
  },
  {
   "cell_type": "code",
   "execution_count": 15,
   "metadata": {},
   "outputs": [
    {
     "data": {
      "text/html": [
       "<div>\n",
       "<style scoped>\n",
       "    .dataframe tbody tr th:only-of-type {\n",
       "        vertical-align: middle;\n",
       "    }\n",
       "\n",
       "    .dataframe tbody tr th {\n",
       "        vertical-align: top;\n",
       "    }\n",
       "\n",
       "    .dataframe thead th {\n",
       "        text-align: right;\n",
       "    }\n",
       "</style>\n",
       "<table border=\"1\" class=\"dataframe\">\n",
       "  <thead>\n",
       "    <tr style=\"text-align: right;\">\n",
       "      <th></th>\n",
       "      <th>text</th>\n",
       "    </tr>\n",
       "  </thead>\n",
       "  <tbody>\n",
       "    <tr>\n",
       "      <th>0</th>\n",
       "      <td>The New York Times reported on Thursday that T...</td>\n",
       "    </tr>\n",
       "    <tr>\n",
       "      <th>1</th>\n",
       "      <td>Entitled “Passions”, the autobiography documen...</td>\n",
       "    </tr>\n",
       "    <tr>\n",
       "      <th>2</th>\n",
       "      <td>A so-called tiered deposit rate would mean ban...</td>\n",
       "    </tr>\n",
       "    <tr>\n",
       "      <th>3</th>\n",
       "      <td>Air Force Brigade General Miguel Sisco Mora wa...</td>\n",
       "    </tr>\n",
       "    <tr>\n",
       "      <th>4</th>\n",
       "      <td>Much of Hudson’s Bay’s value is locked up in i...</td>\n",
       "    </tr>\n",
       "  </tbody>\n",
       "</table>\n",
       "</div>"
      ],
      "text/plain": [
       "                                                text\n",
       "0  The New York Times reported on Thursday that T...\n",
       "1  Entitled “Passions”, the autobiography documen...\n",
       "2  A so-called tiered deposit rate would mean ban...\n",
       "3  Air Force Brigade General Miguel Sisco Mora wa...\n",
       "4  Much of Hudson’s Bay’s value is locked up in i..."
      ]
     },
     "execution_count": 15,
     "metadata": {},
     "output_type": "execute_result"
    }
   ],
   "source": [
    "articles.head()"
   ]
  },
  {
   "cell_type": "code",
   "execution_count": 11,
   "metadata": {},
   "outputs": [],
   "source": [
    "ajaleht_mainitud = 0\n",
    "\n",
    "for i, row in articles.iterrows():\n",
    "    #print(row['text'])\n",
    "    #break\n",
    "    \n",
    "    text = row['text']\n",
    "    \n",
    "    for ajaleht in ajalehed:\n",
    "        if ajaleht in text:\n",
    "            ajaleht_mainitud += 1\n",
    "    "
   ]
  },
  {
   "cell_type": "code",
   "execution_count": 12,
   "metadata": {},
   "outputs": [
    {
     "data": {
      "text/plain": [
       "91021"
      ]
     },
     "execution_count": 12,
     "metadata": {},
     "output_type": "execute_result"
    }
   ],
   "source": [
    "ajaleht_mainitud"
   ]
  },
  {
   "cell_type": "code",
   "execution_count": 16,
   "metadata": {},
   "outputs": [
    {
     "data": {
      "text/plain": [
       "0.08563885488692163"
      ]
     },
     "execution_count": 16,
     "metadata": {},
     "output_type": "execute_result"
    }
   ],
   "source": [
    "ajaleht_mainitud / articles.shape[0]"
   ]
  },
  {
   "cell_type": "markdown",
   "metadata": {},
   "source": [
    "The next three parts are about finding the most popular words in articles, Google Q&As and jokes. This is a quick way by splitting sentences by spaces. This is obviously not ideal as punctuations will not be separated, but it's not meant to be ideal. Actual lemmatizing takes a long time and this is only to get a quick idea, as the models showed weird behaviour which led us to believe there's more preprocessing needed to be done."
   ]
  },
  {
   "cell_type": "markdown",
   "metadata": {},
   "source": [
    "### Most popular words in articles"
   ]
  },
  {
   "cell_type": "code",
   "execution_count": 19,
   "metadata": {},
   "outputs": [],
   "source": [
    "words_article = []\n",
    "\n",
    "for i, row in articles.iterrows():\n",
    "    text = row['text']\n",
    "    words = text.split(\" \")\n",
    "    words_article.extend([word.lower() for word in words])"
   ]
  },
  {
   "cell_type": "code",
   "execution_count": 20,
   "metadata": {},
   "outputs": [],
   "source": [
    "from collections import Counter"
   ]
  },
  {
   "cell_type": "code",
   "execution_count": 26,
   "metadata": {},
   "outputs": [],
   "source": [
    "stopwords = stopwords.words('english')"
   ]
  },
  {
   "cell_type": "code",
   "execution_count": 27,
   "metadata": {},
   "outputs": [],
   "source": [
    "words_article_withoutstopwords = [word for word in words_article if word not in stopwords]"
   ]
  },
  {
   "cell_type": "code",
   "execution_count": 31,
   "metadata": {},
   "outputs": [],
   "source": [
    "counter_article = Counter(words_article_withoutstopwords).most_common()[:100]"
   ]
  },
  {
   "cell_type": "code",
   "execution_count": 32,
   "metadata": {},
   "outputs": [
    {
     "name": "stdout",
     "output_type": "stream",
     "text": [
      "[('said', 643277), ('would', 254174), ('new', 246051), ('', 227322), ('u.s.', 208649), ('last', 200556), ('percent', 199796), ('said.', 196089), ('also', 188543), ('one', 173930)]\n"
     ]
    }
   ],
   "source": [
    "print(counter_article[:10])"
   ]
  },
  {
   "cell_type": "code",
   "execution_count": 30,
   "metadata": {},
   "outputs": [
    {
     "data": {
      "text/plain": [
       "105846968"
      ]
     },
     "execution_count": 30,
     "metadata": {},
     "output_type": "execute_result"
    }
   ],
   "source": [
    "len(words_article)"
   ]
  },
  {
   "cell_type": "markdown",
   "metadata": {},
   "source": [
    "### Most popular words in Google Q&A-s"
   ]
  },
  {
   "cell_type": "code",
   "execution_count": 33,
   "metadata": {},
   "outputs": [],
   "source": [
    "words_google_qa = []\n",
    "\n",
    "for i, row in google_qa.iterrows():\n",
    "    text = row['text']\n",
    "    words = text.split(\" \")\n",
    "    words_google_qa.extend([word.lower() for word in words])"
   ]
  },
  {
   "cell_type": "code",
   "execution_count": 34,
   "metadata": {},
   "outputs": [
    {
     "data": {
      "text/plain": [
       "56874389"
      ]
     },
     "execution_count": 34,
     "metadata": {},
     "output_type": "execute_result"
    }
   ],
   "source": [
    "len(words_google_qa)"
   ]
  },
  {
   "cell_type": "code",
   "execution_count": 35,
   "metadata": {},
   "outputs": [],
   "source": [
    "words_google_qa_withoutstopwords = [word for word in words_google_qa if word not in stopwords]"
   ]
  },
  {
   "cell_type": "code",
   "execution_count": 36,
   "metadata": {},
   "outputs": [],
   "source": [
    "counter_google_qa = Counter(words_google_qa_withoutstopwords).most_common()[:100]"
   ]
  },
  {
   "cell_type": "code",
   "execution_count": 44,
   "metadata": {},
   "outputs": [
    {
     "name": "stdout",
     "output_type": "stream",
     "text": [
      "[('.', 1358537), ('-', 1039596), (',', 522924), ('/', 281690), ('°', 195374), ('\\ufeff', 162223), ('♠', 139637), ('0000', 116224), (':', 114611), ('new', 112951)]\n"
     ]
    }
   ],
   "source": [
    "print(counter_google_qa[:10])"
   ]
  },
  {
   "cell_type": "markdown",
   "metadata": {},
   "source": [
    "### Most popular words in jokes"
   ]
  },
  {
   "cell_type": "code",
   "execution_count": 37,
   "metadata": {},
   "outputs": [],
   "source": [
    "words_jokes = []\n",
    "\n",
    "for i, row in jokes.iterrows():\n",
    "    text = row['text']\n",
    "    words = text.split(\" \")\n",
    "    words_jokes.extend([word.lower() for word in words])"
   ]
  },
  {
   "cell_type": "code",
   "execution_count": 38,
   "metadata": {},
   "outputs": [
    {
     "data": {
      "text/plain": [
       "34729322"
      ]
     },
     "execution_count": 38,
     "metadata": {},
     "output_type": "execute_result"
    }
   ],
   "source": [
    "len(words_jokes)"
   ]
  },
  {
   "cell_type": "code",
   "execution_count": 40,
   "metadata": {},
   "outputs": [],
   "source": [
    "words_jokes_withoutstopwords = [word for word in words_jokes if word not in stopwords]"
   ]
  },
  {
   "cell_type": "code",
   "execution_count": 41,
   "metadata": {},
   "outputs": [],
   "source": [
    "counter_jokes = Counter(words_jokes_withoutstopwords).most_common()[:100]"
   ]
  },
  {
   "cell_type": "code",
   "execution_count": 42,
   "metadata": {},
   "outputs": [
    {
     "name": "stdout",
     "output_type": "stream",
     "text": [
      "[('', 388064), ('man', 158329), ('one', 127041), ('says', 94922), ('get', 94822), ('like', 87498), ('said', 71113), ('got', 61645), ('says,', 58998), ('back', 58791)]\n"
     ]
    }
   ],
   "source": [
    "print(counter_jokes[:10])"
   ]
  },
  {
   "cell_type": "markdown",
   "metadata": {},
   "source": [
    "### Lemmatizing and removing stop-words"
   ]
  },
  {
   "cell_type": "code",
   "execution_count": 17,
   "metadata": {
    "pycharm": {
     "name": "#%%\n"
    }
   },
   "outputs": [
    {
     "name": "stdout",
     "output_type": "stream",
     "text": [
      "articles\n",
      "\n",
      "\n",
      "0\n",
      "10000\n",
      "20000\n",
      "30000\n",
      "40000\n",
      "google_qa\n",
      "\n",
      "\n",
      "0\n",
      "10000\n",
      "20000\n",
      "30000\n",
      "40000\n",
      "jokes\n",
      "\n",
      "\n",
      "0\n",
      "10000\n",
      "20000\n",
      "30000\n",
      "40000\n",
      "50000\n",
      "60000\n",
      "70000\n",
      "80000\n",
      "90000\n"
     ]
    }
   ],
   "source": [
    "datas = {}\n",
    "stop_words = stopwords.words('english')\n",
    "lemmatizer = WordNetLemmatizer()\n",
    "stop_words.extend([\"...\", \"'s\", \"wo\", \"n't\", \"'m\", \"ca\", \"'ll\", \"'re\", \"'ve\", \"'d\"])\n",
    "\n",
    "all_lem_data = []\n",
    "for name, data, n in zip(['articles', 'google_qa', 'jokes'], [articles, google_qa, jokes], [50000, 50000, 100000]):\n",
    "    print(name, end=\"\\n\\n\\n\")\n",
    "    lemmatized_data = []\n",
    "    for i, row in data.iterrows():\n",
    "        if i == n:\n",
    "            break\n",
    "        if i % 10000 == 0:\n",
    "            print(i)\n",
    "        text = row['text']\n",
    "        words = word_tokenize(text)\n",
    "        lemmas = []\n",
    "\n",
    "        for word in words:\n",
    "            lemma = lemmatizer.lemmatize(word)\n",
    "            if len(lemma) > 1 and not lemma in stop_words:\n",
    "                lemmas.append(lemma.lower())\n",
    "        lemmatized_row = {'id': f\"{name}_{i}\",'text': \" \".join(lemmas), 'joke': name == 'jokes'}\n",
    "        lemmatized_data.append(lemmatized_row)\n",
    "        all_lem_data.append(lemmatized_row)\n",
    "    datas[name] = pd.DataFrame(lemmatized_data)\n"
   ]
  },
  {
   "cell_type": "code",
   "execution_count": 18,
   "metadata": {
    "pycharm": {
     "name": "#%%\n"
    }
   },
   "outputs": [],
   "source": [
    "for key in datas:\n",
    "    data = datas[key]\n",
    "    data.to_json(path_or_buf=f\"{key}_lemmas.json\")"
   ]
  },
  {
   "cell_type": "code",
   "execution_count": 19,
   "metadata": {
    "pycharm": {
     "name": "#%%\n"
    }
   },
   "outputs": [],
   "source": [
    "all_lem_df = pd.DataFrame(all_lem_data)\n",
    "all_lem_df.to_json(path_or_buf=\"all_lemmas.json\")\n"
   ]
  }
 ],
 "metadata": {
  "kernelspec": {
   "display_name": "Python 3",
   "language": "python",
   "name": "python3"
  },
  "language_info": {
   "codemirror_mode": {
    "name": "ipython",
    "version": 3
   },
   "file_extension": ".py",
   "mimetype": "text/x-python",
   "name": "python",
   "nbconvert_exporter": "python",
   "pygments_lexer": "ipython3",
   "version": "3.7.9"
  }
 },
 "nbformat": 4,
 "nbformat_minor": 1
}
