{
 "cells": [
  {
   "cell_type": "code",
   "execution_count": 3,
   "metadata": {
    "collapsed": true
   },
   "outputs": [],
   "source": [
    "import pandas as pd\n",
    "import json\n",
    "import numpy as np\n",
    "from tqdm import tqdm"
   ]
  },
  {
   "cell_type": "code",
   "execution_count": 4,
   "outputs": [],
   "source": [
    "articles = pd.read_json('data/articles.json.xz')\n",
    "google_qa = pd.read_json('data/google_qa.json.xz')\n",
    "jokes = pd.read_json('data/jokes.json.xz')"
   ],
   "metadata": {
    "collapsed": false,
    "pycharm": {
     "name": "#%%\n"
    }
   }
  },
  {
   "cell_type": "code",
   "execution_count": 5,
   "outputs": [],
   "source": [
    "jokes_and_not = {'text': [], 'funny': []}\n",
    "\n",
    "counter = 0\n",
    "for line in articles.text[:5]:\n",
    "    jokes_and_not['text'].append(line)\n",
    "    jokes_and_not['funny'].append(0)\n",
    "\n",
    "for line in google_qa.text[:5]:\n",
    "    jokes_and_not['text'].append(line)\n",
    "    jokes_and_not['funny'].append(0)\n",
    "\n",
    "for line in jokes.text[:5]:\n",
    "    jokes_and_not['text'].append(line)\n",
    "    jokes_and_not['funny'].append(1)"
   ],
   "metadata": {
    "collapsed": false,
    "pycharm": {
     "name": "#%%\n"
    }
   }
  },
  {
   "cell_type": "code",
   "execution_count": 8,
   "outputs": [],
   "source": [
    "df = pd.DataFrame(jokes_and_not)"
   ],
   "metadata": {
    "collapsed": false,
    "pycharm": {
     "name": "#%%\n"
    }
   }
  },
  {
   "cell_type": "code",
   "execution_count": 10,
   "outputs": [
    {
     "data": {
      "text/plain": "                                                 text  funny\n0   The New York Times reported on Thursday that T...      0\n1   Entitled “Passions”, the autobiography documen...      0\n2   A so-called tiered deposit rate would mean ban...      0\n3   Air Force Brigade General Miguel Sisco Mora wa...      0\n4   Much of Hudson’s Bay’s value is locked up in i...      0\n5   which is the most common use of opt-in e-mail ...      0\n6   how i.met your mother who is the mother Tracy ...      0\n7   what type of fertilisation takes place in huma...      0\n8   who had the most wins in the nfl Active quarte...      0\n9   what happened to the lost settlement of roanok...      0\n10  I'm on a seafood diet... I see food, and if it...      1\n11  The shoe store... An Al Bundy one-liner:\\n\\nA ...      1\n12  What do you say to a veteran prostitute after ...      1\n13  Confused man sees a psychiatrist A man goes to...      1\n14  Teabags have fought back! Humans have been ens...      1",
      "text/html": "<div>\n<style scoped>\n    .dataframe tbody tr th:only-of-type {\n        vertical-align: middle;\n    }\n\n    .dataframe tbody tr th {\n        vertical-align: top;\n    }\n\n    .dataframe thead th {\n        text-align: right;\n    }\n</style>\n<table border=\"1\" class=\"dataframe\">\n  <thead>\n    <tr style=\"text-align: right;\">\n      <th></th>\n      <th>text</th>\n      <th>funny</th>\n    </tr>\n  </thead>\n  <tbody>\n    <tr>\n      <th>0</th>\n      <td>The New York Times reported on Thursday that T...</td>\n      <td>0</td>\n    </tr>\n    <tr>\n      <th>1</th>\n      <td>Entitled “Passions”, the autobiography documen...</td>\n      <td>0</td>\n    </tr>\n    <tr>\n      <th>2</th>\n      <td>A so-called tiered deposit rate would mean ban...</td>\n      <td>0</td>\n    </tr>\n    <tr>\n      <th>3</th>\n      <td>Air Force Brigade General Miguel Sisco Mora wa...</td>\n      <td>0</td>\n    </tr>\n    <tr>\n      <th>4</th>\n      <td>Much of Hudson’s Bay’s value is locked up in i...</td>\n      <td>0</td>\n    </tr>\n    <tr>\n      <th>5</th>\n      <td>which is the most common use of opt-in e-mail ...</td>\n      <td>0</td>\n    </tr>\n    <tr>\n      <th>6</th>\n      <td>how i.met your mother who is the mother Tracy ...</td>\n      <td>0</td>\n    </tr>\n    <tr>\n      <th>7</th>\n      <td>what type of fertilisation takes place in huma...</td>\n      <td>0</td>\n    </tr>\n    <tr>\n      <th>8</th>\n      <td>who had the most wins in the nfl Active quarte...</td>\n      <td>0</td>\n    </tr>\n    <tr>\n      <th>9</th>\n      <td>what happened to the lost settlement of roanok...</td>\n      <td>0</td>\n    </tr>\n    <tr>\n      <th>10</th>\n      <td>I'm on a seafood diet... I see food, and if it...</td>\n      <td>1</td>\n    </tr>\n    <tr>\n      <th>11</th>\n      <td>The shoe store... An Al Bundy one-liner:\\n\\nA ...</td>\n      <td>1</td>\n    </tr>\n    <tr>\n      <th>12</th>\n      <td>What do you say to a veteran prostitute after ...</td>\n      <td>1</td>\n    </tr>\n    <tr>\n      <th>13</th>\n      <td>Confused man sees a psychiatrist A man goes to...</td>\n      <td>1</td>\n    </tr>\n    <tr>\n      <th>14</th>\n      <td>Teabags have fought back! Humans have been ens...</td>\n      <td>1</td>\n    </tr>\n  </tbody>\n</table>\n</div>"
     },
     "execution_count": 10,
     "metadata": {},
     "output_type": "execute_result"
    }
   ],
   "source": [
    "df.head(15)\n"
   ],
   "metadata": {
    "collapsed": false,
    "pycharm": {
     "name": "#%%\n"
    }
   }
  }
 ],
 "metadata": {
  "kernelspec": {
   "display_name": "Python 3",
   "language": "python",
   "name": "python3"
  },
  "language_info": {
   "codemirror_mode": {
    "name": "ipython",
    "version": 2
   },
   "file_extension": ".py",
   "mimetype": "text/x-python",
   "name": "python",
   "nbconvert_exporter": "python",
   "pygments_lexer": "ipython2",
   "version": "2.7.6"
  }
 },
 "nbformat": 4,
 "nbformat_minor": 0
}