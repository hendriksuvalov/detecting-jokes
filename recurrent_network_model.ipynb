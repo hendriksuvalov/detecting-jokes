{
 "cells": [
  {
   "cell_type": "code",
   "execution_count": 1,
   "metadata": {},
   "outputs": [],
   "source": [
    "import pandas as pd\n",
    "import numpy as np\n",
    "import tensorflow as tf\n",
    "from tensorflow import keras\n",
    "from tensorflow.keras import layers"
   ]
  },
  {
   "cell_type": "code",
   "execution_count": 16,
   "metadata": {},
   "outputs": [
    {
     "name": "stderr",
     "output_type": "stream",
     "text": [
      "[nltk_data] Downloading package stopwords to\n",
      "[nltk_data]     C:\\Users\\Birgit\\AppData\\Roaming\\nltk_data...\n",
      "[nltk_data]   Package stopwords is already up-to-date!\n"
     ]
    }
   ],
   "source": [
    "import nltk\n",
    "from nltk.tokenize import word_tokenize\n",
    "from nltk.stem import WordNetLemmatizer\n",
    "from nltk.corpus import stopwords\n",
    "nltk.download('stopwords')\n",
    "import re"
   ]
  },
  {
   "cell_type": "code",
   "execution_count": 2,
   "metadata": {},
   "outputs": [],
   "source": [
    "qa = pd.read_json(\"data/lemmatize_google_qa.json.xz\")\n",
    "jokes = pd.read_json(\"data/lemmatize_jokes.json.xz\")\n",
    "articles = pd.read_json(\"data/lemmatize_news.json.xz\")"
   ]
  },
  {
   "cell_type": "code",
   "execution_count": 41,
   "metadata": {},
   "outputs": [],
   "source": [
    "stop_words = stopwords.words('english')\n",
    "stop_words.extend([\"...\", \"'s\", \"wo\", \"n't\", \"'m\", \"ca\", \"'ll\", \"'re\", \"'ve\", \"'d\", \"ha\", \"´´\", \"´\", \"´´´\", \",\", \"!\", \"'\", \":\", \";\", '\"', \"\\\\\", \"``\"])\n",
    "stop_words.extend([\"wa\", \"''\", \"the\", \"he\", \"my\", \"it\"])\n",
    "\n",
    "data_for_df = []\n",
    "\n",
    "jokes_lemmas = jokes['lemmatize']\n",
    "\n",
    "for i, joke in enumerate(jokes_lemmas):\n",
    "    joke_words = [word for word in joke if word not in stop_words and word.isalpha()]\n",
    "    joke_text = \" \".join(joke_words)\n",
    "    data_for_df.append({'text': joke_text, 'joke': 1, 'category': 0})\n",
    "    \n",
    "qa_lemmas = qa['lemmatize']\n",
    "\n",
    "for i, q in enumerate(qa_lemmas):\n",
    "    qa_words = [word for word in q if word not in stop_words and word.isalpha()]\n",
    "    qa_text = \" \".join(qa_words)\n",
    "    data_for_df.append({'text': qa_text, 'joke': 0, 'category': 1})\n",
    "    \n",
    "articles_lemmas = articles['lemmatize']\n",
    "\n",
    "for i, article in enumerate(articles_lemmas):\n",
    "    article_words = [word for word in article if word not in stop_words and word.isalpha()]\n",
    "    article_text = \" \".join(article_words)\n",
    "    article_text = re.sub(\"reporting .*\", \"\", article_text)\n",
    "    data_for_df.append({'text': article_text, 'joke': 0, 'category': 2})"
   ]
  },
  {
   "cell_type": "code",
   "execution_count": 42,
   "metadata": {},
   "outputs": [
    {
     "data": {
      "text/plain": [
       "(1380351, 3)"
      ]
     },
     "execution_count": 42,
     "metadata": {},
     "output_type": "execute_result"
    }
   ],
   "source": [
    "df = pd.DataFrame(data_for_df)\n",
    "df.shape"
   ]
  },
  {
   "cell_type": "code",
   "execution_count": 43,
   "metadata": {},
   "outputs": [
    {
     "data": {
      "text/plain": [
       "(1283149, 3)"
      ]
     },
     "execution_count": 43,
     "metadata": {},
     "output_type": "execute_result"
    }
   ],
   "source": [
    "df = df.drop_duplicates('text')\n",
    "df.shape"
   ]
  },
  {
   "cell_type": "code",
   "execution_count": 44,
   "metadata": {},
   "outputs": [
    {
     "data": {
      "text/html": [
       "<div>\n",
       "<style scoped>\n",
       "    .dataframe tbody tr th:only-of-type {\n",
       "        vertical-align: middle;\n",
       "    }\n",
       "\n",
       "    .dataframe tbody tr th {\n",
       "        vertical-align: top;\n",
       "    }\n",
       "\n",
       "    .dataframe thead th {\n",
       "        text-align: right;\n",
       "    }\n",
       "</style>\n",
       "<table border=\"1\" class=\"dataframe\">\n",
       "  <thead>\n",
       "    <tr style=\"text-align: right;\">\n",
       "      <th></th>\n",
       "      <th>text</th>\n",
       "      <th>joke</th>\n",
       "      <th>category</th>\n",
       "    </tr>\n",
       "  </thead>\n",
       "  <tbody>\n",
       "    <tr>\n",
       "      <th>0</th>\n",
       "      <td>seafood diet see food fish eat</td>\n",
       "      <td>1</td>\n",
       "      <td>0</td>\n",
       "    </tr>\n",
       "    <tr>\n",
       "      <th>1</th>\n",
       "      <td>shoe store al bundy fat woman came shoe store ...</td>\n",
       "      <td>1</td>\n",
       "      <td>0</td>\n",
       "    </tr>\n",
       "    <tr>\n",
       "      <th>2</th>\n",
       "      <td>stalin said dark humor like food everyone get</td>\n",
       "      <td>1</td>\n",
       "      <td>0</td>\n",
       "    </tr>\n",
       "    <tr>\n",
       "      <th>3</th>\n",
       "      <td>really hate dementia remember</td>\n",
       "      <td>1</td>\n",
       "      <td>0</td>\n",
       "    </tr>\n",
       "    <tr>\n",
       "      <th>4</th>\n",
       "      <td>hey guy got nice joke ya u</td>\n",
       "      <td>1</td>\n",
       "      <td>0</td>\n",
       "    </tr>\n",
       "  </tbody>\n",
       "</table>\n",
       "</div>"
      ],
      "text/plain": [
       "                                                text  joke  category\n",
       "0                     seafood diet see food fish eat     1         0\n",
       "1  shoe store al bundy fat woman came shoe store ...     1         0\n",
       "2      stalin said dark humor like food everyone get     1         0\n",
       "3                      really hate dementia remember     1         0\n",
       "4                         hey guy got nice joke ya u     1         0"
      ]
     },
     "execution_count": 44,
     "metadata": {},
     "output_type": "execute_result"
    }
   ],
   "source": [
    "df.head()"
   ]
  },
  {
   "cell_type": "markdown",
   "metadata": {},
   "source": [
    "### Preparing data for Neural Network"
   ]
  },
  {
   "cell_type": "code",
   "execution_count": 22,
   "metadata": {},
   "outputs": [],
   "source": [
    "from sklearn.model_selection import train_test_split"
   ]
  },
  {
   "cell_type": "code",
   "execution_count": 45,
   "metadata": {},
   "outputs": [],
   "source": [
    "jokes_subdf = df[df['category'] == 0].head(50000)\n",
    "qa_subdf = df[df['category'] == 1].head(25000)\n",
    "article_subdf = df[df['category'] == 2].head(25000)\n",
    "\n",
    "smaller_df = pd.concat([jokes_subdf, qa_subdf, article_subdf])"
   ]
  },
  {
   "cell_type": "code",
   "execution_count": 49,
   "metadata": {},
   "outputs": [],
   "source": [
    "X, X_test, y, y_test = train_test_split(smaller_df['text'], smaller_df['joke'], test_size=0.1, stratify=smaller_df['joke'])"
   ]
  },
  {
   "cell_type": "code",
   "execution_count": 50,
   "metadata": {},
   "outputs": [],
   "source": [
    "X_train, X_val, y_train, y_val = train_test_split(X, y, test_size=0.1, stratify=y)"
   ]
  },
  {
   "cell_type": "code",
   "execution_count": 29,
   "metadata": {},
   "outputs": [
    {
     "name": "stderr",
     "output_type": "stream",
     "text": [
      "Using TensorFlow backend.\n"
     ]
    }
   ],
   "source": [
    "from sklearn.feature_extraction.text import TfidfVectorizer\n",
    "from keras.preprocessing.text import Tokenizer\n",
    "from keras.preprocessing.sequence import pad_sequences\n",
    "from keras.utils import to_categorical"
   ]
  },
  {
   "cell_type": "code",
   "execution_count": 54,
   "metadata": {},
   "outputs": [],
   "source": [
    "num_words = 15000\n",
    "maxlen = 500\n",
    "\n",
    "tokenizer = Tokenizer(num_words=num_words)\n",
    "tokenizer.fit_on_texts(X_train)\n",
    "\n",
    "tokenized_X_train = tokenizer.texts_to_sequences(X_train)\n",
    "tokenized_X_val = tokenizer.texts_to_sequences(X_val)\n",
    "tokenized_X_test = tokenizer.texts_to_sequences(X_test)\n",
    "\n",
    "X_train_pad = pad_sequences(tokenized_X_train, maxlen=maxlen)\n",
    "X_val_pad = pad_sequences(tokenized_X_val, maxlen=maxlen)\n",
    "X_test_pad = pad_sequences(tokenized_X_test, maxlen=maxlen)"
   ]
  },
  {
   "cell_type": "code",
   "execution_count": 55,
   "metadata": {},
   "outputs": [],
   "source": [
    "y_train_vec = to_categorical(y_train)\n",
    "y_val_vec = to_categorical(y_val)\n",
    "y_test_vec = to_categorical(y_test)"
   ]
  },
  {
   "cell_type": "code",
   "execution_count": 56,
   "metadata": {},
   "outputs": [
    {
     "data": {
      "text/plain": [
       "(81000, 500)"
      ]
     },
     "execution_count": 56,
     "metadata": {},
     "output_type": "execute_result"
    }
   ],
   "source": [
    "X_train_pad.shape"
   ]
  },
  {
   "cell_type": "code",
   "execution_count": 57,
   "metadata": {},
   "outputs": [
    {
     "data": {
      "text/plain": [
       "(10000, 500)"
      ]
     },
     "execution_count": 57,
     "metadata": {},
     "output_type": "execute_result"
    }
   ],
   "source": [
    "X_test_pad.shape"
   ]
  },
  {
   "cell_type": "code",
   "execution_count": 58,
   "metadata": {},
   "outputs": [
    {
     "data": {
      "text/plain": [
       "(9000, 500)"
      ]
     },
     "execution_count": 58,
     "metadata": {},
     "output_type": "execute_result"
    }
   ],
   "source": [
    "X_val_pad.shape"
   ]
  },
  {
   "cell_type": "markdown",
   "metadata": {},
   "source": [
    "### Neural Network training and testing"
   ]
  },
  {
   "cell_type": "markdown",
   "metadata": {},
   "source": [
    "Model taken from the tensorflow guide: https://www.tensorflow.org/guide/keras/rnn. Plan was to add layers and tune it further but the results indicated this wasn't necessary and instead we put more work into preprocessing the data further and analysing it."
   ]
  },
  {
   "cell_type": "markdown",
   "metadata": {},
   "source": [
    "#### Model with Embedding layer"
   ]
  },
  {
   "cell_type": "code",
   "execution_count": 59,
   "metadata": {},
   "outputs": [
    {
     "name": "stdout",
     "output_type": "stream",
     "text": [
      "Model: \"sequential_1\"\n",
      "_________________________________________________________________\n",
      "Layer (type)                 Output Shape              Param #   \n",
      "=================================================================\n",
      "embedding_1 (Embedding)      (None, 500, 64)           960000    \n",
      "_________________________________________________________________\n",
      "lstm_1 (LSTM)                (None, 35)                14000     \n",
      "_________________________________________________________________\n",
      "dense_1 (Dense)              (None, 2)                 72        \n",
      "=================================================================\n",
      "Total params: 974,072\n",
      "Trainable params: 974,072\n",
      "Non-trainable params: 0\n",
      "_________________________________________________________________\n"
     ]
    }
   ],
   "source": [
    "model = keras.Sequential()\n",
    "model.add(layers.Embedding(input_dim=num_words, input_length=maxlen, output_dim=64))\n",
    "model.add(layers.LSTM(35))\n",
    "model.add(layers.Dense(2, activation='softmax'))\n",
    "model.summary()\n",
    "model.compile(optimizer='adam', loss='binary_crossentropy', metrics=['accuracy'])"
   ]
  },
  {
   "cell_type": "code",
   "execution_count": 60,
   "metadata": {},
   "outputs": [
    {
     "name": "stdout",
     "output_type": "stream",
     "text": [
      "Train on 81000 samples, validate on 9000 samples\n",
      "Epoch 1/3\n",
      "81000/81000 [==============================] - 785s 10ms/sample - loss: 0.1677 - accuracy: 0.9405 - val_loss: 0.0840 - val_accuracy: 0.9710\n",
      "Epoch 2/3\n",
      "81000/81000 [==============================] - 740s 9ms/sample - loss: 0.0581 - accuracy: 0.9802 - val_loss: 0.0761 - val_accuracy: 0.9734\n",
      "Epoch 3/3\n",
      "81000/81000 [==============================] - 812s 10ms/sample - loss: 0.0356 - accuracy: 0.9884 - val_loss: 0.0854 - val_accuracy: 0.9730\n"
     ]
    },
    {
     "data": {
      "text/plain": [
       "<tensorflow.python.keras.callbacks.History at 0x270b7d5cdc8>"
      ]
     },
     "execution_count": 60,
     "metadata": {},
     "output_type": "execute_result"
    }
   ],
   "source": [
    "model.fit(X_train_pad, y_train_vec, validation_data=(X_val_pad, y_val_vec), epochs=3, verbose=1, batch_size=256)"
   ]
  },
  {
   "cell_type": "code",
   "execution_count": 61,
   "metadata": {},
   "outputs": [],
   "source": [
    "predictions_probs = model.predict(X_test_pad)\n",
    "predictions = [np.argmax(prob) for prob in predictions_probs]"
   ]
  },
  {
   "cell_type": "code",
   "execution_count": 115,
   "metadata": {},
   "outputs": [
    {
     "data": {
      "text/plain": [
       "96.8"
      ]
     },
     "execution_count": 115,
     "metadata": {},
     "output_type": "execute_result"
    }
   ],
   "source": [
    "round(sum(predictions == y_test) / len(predictions) * 100, 2)"
   ]
  },
  {
   "cell_type": "markdown",
   "metadata": {},
   "source": [
    "#### Model without Embedding layer"
   ]
  },
  {
   "cell_type": "code",
   "execution_count": 109,
   "metadata": {},
   "outputs": [
    {
     "name": "stdout",
     "output_type": "stream",
     "text": [
      "Model: \"sequential_13\"\n",
      "_________________________________________________________________\n",
      "Layer (type)                 Output Shape              Param #   \n",
      "=================================================================\n",
      "lstm_11 (LSTM)               (None, 35)                5180      \n",
      "_________________________________________________________________\n",
      "dense_11 (Dense)             (None, 2)                 72        \n",
      "=================================================================\n",
      "Total params: 5,252\n",
      "Trainable params: 5,252\n",
      "Non-trainable params: 0\n",
      "_________________________________________________________________\n"
     ]
    }
   ],
   "source": [
    "model2 = keras.Sequential()\n",
    "#model2.add(layers.Embedding(input_dim=num_words, input_length=maxlen, output_dim=64))\n",
    "model2.add(layers.LSTM(35, input_length=maxlen, input_dim=1))\n",
    "model2.add(layers.Dense(2, activation='softmax'))\n",
    "model2.summary()\n",
    "model2.compile(optimizer='adam', loss='binary_crossentropy', metrics=['accuracy'])"
   ]
  },
  {
   "cell_type": "code",
   "execution_count": 110,
   "metadata": {},
   "outputs": [],
   "source": [
    "X_train_reshaped = np.reshape(X_train_pad, (X_train_pad.shape[0], X_train_pad.shape[1], 1))\n",
    "X_val_reshaped = np.reshape(X_val_pad, (X_val_pad.shape[0], X_val_pad.shape[1], 1))\n",
    "X_test_reshaped = np.reshape(X_test_pad, (X_test_pad.shape[0], X_test_pad.shape[1], 1))"
   ]
  },
  {
   "cell_type": "code",
   "execution_count": 111,
   "metadata": {},
   "outputs": [
    {
     "data": {
      "text/plain": [
       "(81000, 500, 1)"
      ]
     },
     "execution_count": 111,
     "metadata": {},
     "output_type": "execute_result"
    }
   ],
   "source": [
    "X_train_reshaped.shape"
   ]
  },
  {
   "cell_type": "code",
   "execution_count": 112,
   "metadata": {},
   "outputs": [
    {
     "name": "stdout",
     "output_type": "stream",
     "text": [
      "Train on 81000 samples, validate on 9000 samples\n",
      "Epoch 1/3\n",
      "81000/81000 [==============================] - 553s 7ms/sample - loss: 0.4718 - accuracy: 0.7887 - val_loss: 0.4050 - val_accuracy: 0.8318\n",
      "Epoch 2/3\n",
      "81000/81000 [==============================] - 468s 6ms/sample - loss: 0.3928 - accuracy: 0.8354 - val_loss: 0.3890 - val_accuracy: 0.8414\n",
      "Epoch 3/3\n",
      "81000/81000 [==============================] - 463s 6ms/sample - loss: 0.3828 - accuracy: 0.8422 - val_loss: 0.3798 - val_accuracy: 0.8401\n"
     ]
    },
    {
     "data": {
      "text/plain": [
       "<tensorflow.python.keras.callbacks.History at 0x2713b2ab208>"
      ]
     },
     "execution_count": 112,
     "metadata": {},
     "output_type": "execute_result"
    }
   ],
   "source": [
    "model2.fit(X_train_reshaped, y_train_vec, validation_data=(X_val_reshaped, y_val_vec), epochs=3, verbose=1, batch_size=256)"
   ]
  },
  {
   "cell_type": "code",
   "execution_count": 113,
   "metadata": {},
   "outputs": [],
   "source": [
    "predictions_probs2 = model2.predict(X_test_reshaped)\n",
    "predictions2 = [np.argmax(prob) for prob in predictions_probs2]"
   ]
  },
  {
   "cell_type": "code",
   "execution_count": 114,
   "metadata": {},
   "outputs": [
    {
     "data": {
      "text/plain": [
       "84.32"
      ]
     },
     "execution_count": 114,
     "metadata": {},
     "output_type": "execute_result"
    }
   ],
   "source": [
    "round(sum(predictions2 == y_test) / len(predictions2) * 100, 2)"
   ]
  },
  {
   "cell_type": "markdown",
   "metadata": {},
   "source": [
    "#### Save models"
   ]
  },
  {
   "cell_type": "code",
   "execution_count": 116,
   "metadata": {},
   "outputs": [],
   "source": [
    "model.save(\"model_with_embedding_layer.h5\")\n",
    "model2.save(\"model_without_embedding_layer.h5\")"
   ]
  }
 ],
 "metadata": {
  "kernelspec": {
   "display_name": "Python 3",
   "language": "python",
   "name": "python3"
  },
  "language_info": {
   "codemirror_mode": {
    "name": "ipython",
    "version": 3
   },
   "file_extension": ".py",
   "mimetype": "text/x-python",
   "name": "python",
   "nbconvert_exporter": "python",
   "pygments_lexer": "ipython3",
   "version": "3.7.9"
  }
 },
 "nbformat": 4,
 "nbformat_minor": 4
}
